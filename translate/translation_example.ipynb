{
  "cells": [
    {
      "cell_type": "code",
      "execution_count": 2,
      "metadata": {
        "gather": {
          "logged": 1747664214264
        }
      },
      "outputs": [],
      "source": [
        "# Import standard library for implementing http REST request\n",
        "import requests, uuid, json"
      ]
    },
    {
      "cell_type": "code",
      "execution_count": 3,
      "metadata": {
        "gather": {
          "logged": 1747664239761
        }
      },
      "outputs": [],
      "source": [
        "# Add service's parameters: key, endpoint and region\n",
        "key = \"\"\n",
        "endpoint = \"https://api.cognitive.microsofttranslator.com\"\n",
        "location = \"\""
      ]
    },
    {
      "cell_type": "code",
      "execution_count": 9,
      "metadata": {
        "gather": {
          "logged": 1747665256703
        }
      },
      "outputs": [
        {
          "name": "stdout",
          "output_type": "stream",
          "text": [
            "[\n",
            "    {\n",
            "        \"detectedLanguage\": {\n",
            "            \"language\": \"fr\",\n",
            "            \"score\": 0.98\n",
            "        },\n",
            "        \"translations\": [\n",
            "            {\n",
            "                \"text\": \"I would like to become a professional tennis player one day\",\n",
            "                \"to\": \"en\"\n",
            "            },\n",
            "            {\n",
            "                \"text\": \"我希望有一天能成为一名职业网球运动员\",\n",
            "                \"to\": \"zh-Hans\"\n",
            "            }\n",
            "        ]\n",
            "    },\n",
            "    {\n",
            "        \"detectedLanguage\": {\n",
            "            \"language\": \"fr\",\n",
            "            \"score\": 1.0\n",
            "        },\n",
            "        \"translations\": [\n",
            "            {\n",
            "                \"text\": \"In this case you have to train more seriously.\",\n",
            "                \"to\": \"en\"\n",
            "            },\n",
            "            {\n",
            "                \"text\": \"在这种情况下，您必须更加认真地训练。\",\n",
            "                \"to\": \"zh-Hans\"\n",
            "            }\n",
            "        ]\n",
            "    }\n",
            "]\n"
          ]
        }
      ],
      "source": [
        "\n",
        "path = '/translate'\n",
        "constructed_url = endpoint + path\n",
        "\n",
        "params = {\n",
        "    'api-version': '3.0',\n",
        "    'from': 'fr',\n",
        "    'to': ['en', 'zh-Hans']\n",
        "}\n",
        "\n",
        "headers = {\n",
        "    'Ocp-Apim-Subscription-Key': key,\n",
        "    # location required if you're using a multi-service or regional (not global) resource.\n",
        "    'Ocp-Apim-Subscription-Region': location,\n",
        "    'Content-type': 'application/json',\n",
        "    'X-ClientTraceId': str(uuid.uuid4())\n",
        "}\n",
        "\n",
        "# You can pass more than one object in body.\n",
        "body = [{\n",
        "    'text': 'J\\'aimerai deveninr un jour de tennis professionnel'\n",
        "    },\n",
        "    {\n",
        "    'text': 'Dans ce cas il faut t\\'entrainer avec plus de sérieux.'\n",
        "}]\n",
        "\n",
        "request = requests.post(constructed_url, params=params, headers=headers, json=body)\n",
        "\n",
        "# Convert response into json object\n",
        "response = request.json()\n",
        "\n",
        "# Format response before printing\n",
        "print(json.dumps(response, sort_keys=True, ensure_ascii=False, indent=4, separators=(',', ': ')))\n"
      ]
    }
  ],
  "metadata": {
    "kernel_info": {
      "name": "python310-sdkv2"
    },
    "kernelspec": {
      "display_name": "Python 3.10 - SDK v2",
      "language": "python",
      "name": "python310-sdkv2"
    },
    "language_info": {
      "codemirror_mode": {
        "name": "ipython",
        "version": 3
      },
      "file_extension": ".py",
      "mimetype": "text/x-python",
      "name": "python",
      "nbconvert_exporter": "python",
      "pygments_lexer": "ipython3",
      "version": "3.10.16"
    },
    "microsoft": {
      "host": {
        "AzureML": {
          "notebookHasBeenCompleted": true
        }
      },
      "ms_spell_check": {
        "ms_spell_check_language": "en"
      }
    },
    "nteract": {
      "version": "nteract-front-end@1.0.0"
    }
  },
  "nbformat": 4,
  "nbformat_minor": 2
}
